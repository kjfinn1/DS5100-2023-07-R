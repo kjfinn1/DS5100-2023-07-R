{
 "cells": [
  {
   "cell_type": "markdown",
   "id": "8189ee02-a41b-4a6a-86e1-9dcc10df0349",
   "metadata": {},
   "source": [
    "Mod2 Exercises"
   ]
  },
  {
   "cell_type": "code",
   "execution_count": 16,
   "id": "44d717a9-7a2d-4957-a78e-b4ea4edbe490",
   "metadata": {
    "tags": []
   },
   "outputs": [
    {
     "data": {
      "text/plain": [
       "True"
      ]
     },
     "execution_count": 16,
     "metadata": {},
     "output_type": "execute_result"
    }
   ],
   "source": [
    "a= \"Stephen\"\n",
    "len(a)>=6"
   ]
  },
  {
   "cell_type": "code",
   "execution_count": 13,
   "id": "c0866df7-7ce7-4b7a-b80f-d8c2c57fe0df",
   "metadata": {
    "tags": []
   },
   "outputs": [
    {
     "name": "stdout",
     "output_type": "stream",
     "text": [
      "Ste\n"
     ]
    }
   ],
   "source": [
    "print(a[0:3])"
   ]
  },
  {
   "cell_type": "code",
   "execution_count": 14,
   "id": "794bfe8a-1ec0-47de-9190-ea3b10d16762",
   "metadata": {
    "tags": []
   },
   "outputs": [
    {
     "name": "stdout",
     "output_type": "stream",
     "text": [
      "hen\n"
     ]
    }
   ],
   "source": [
    "print(a[-3:])"
   ]
  },
  {
   "cell_type": "code",
   "execution_count": 17,
   "id": "03e1eeec-ef4c-48b1-a100-da536a9872a9",
   "metadata": {
    "tags": []
   },
   "outputs": [],
   "source": [
    "a=(1,2,3)"
   ]
  },
  {
   "cell_type": "code",
   "execution_count": 18,
   "id": "d2926c59-ad8d-4ea5-ad77-e989a563a10a",
   "metadata": {
    "tags": []
   },
   "outputs": [
    {
     "data": {
      "text/plain": [
       "tuple"
      ]
     },
     "execution_count": 18,
     "metadata": {},
     "output_type": "execute_result"
    }
   ],
   "source": [
    "type(a)"
   ]
  },
  {
   "cell_type": "code",
   "execution_count": 19,
   "id": "27ea9858-9316-48d3-a2c5-49fac7297d1f",
   "metadata": {
    "tags": []
   },
   "outputs": [
    {
     "ename": "AttributeError",
     "evalue": "'tuple' object has no attribute 'append'",
     "output_type": "error",
     "traceback": [
      "\u001b[0;31m---------------------------------------------------------------------------\u001b[0m",
      "\u001b[0;31mAttributeError\u001b[0m                            Traceback (most recent call last)",
      "Cell \u001b[0;32mIn[19], line 1\u001b[0m\n\u001b[0;32m----> 1\u001b[0m \u001b[43ma\u001b[49m\u001b[38;5;241;43m.\u001b[39;49m\u001b[43mappend\u001b[49m(\u001b[38;5;241m4\u001b[39m)\n",
      "\u001b[0;31mAttributeError\u001b[0m: 'tuple' object has no attribute 'append'"
     ]
    }
   ],
   "source": [
    "a.append(4)"
   ]
  },
  {
   "cell_type": "code",
   "execution_count": 37,
   "id": "7a05832b-9be1-4ccd-8eb1-49a7f0d0155d",
   "metadata": {
    "tags": []
   },
   "outputs": [],
   "source": [
    "a = \"The quick brown fox jumped over the lazy dog\"\n",
    "a=a.lower()"
   ]
  },
  {
   "cell_type": "code",
   "execution_count": 38,
   "id": "caf82d2c-37b2-450b-8685-066aa12f920a",
   "metadata": {
    "tags": []
   },
   "outputs": [],
   "source": [
    "b=a.split(\" \")"
   ]
  },
  {
   "cell_type": "code",
   "execution_count": 39,
   "id": "3a56e7ae-3d02-4a09-8815-cb27312c5f75",
   "metadata": {
    "tags": []
   },
   "outputs": [
    {
     "data": {
      "text/plain": [
       "'the'"
      ]
     },
     "execution_count": 39,
     "metadata": {},
     "output_type": "execute_result"
    }
   ],
   "source": [
    "(b[0].lower())"
   ]
  },
  {
   "cell_type": "code",
   "execution_count": 40,
   "id": "f51197c4-6c55-49ad-b1d0-989dcc026b6b",
   "metadata": {
    "tags": []
   },
   "outputs": [
    {
     "data": {
      "text/plain": [
       "['brown', 'dog', 'fox', 'jumped', 'lazy', 'over', 'quick', 'the', 'the']"
      ]
     },
     "execution_count": 40,
     "metadata": {},
     "output_type": "execute_result"
    }
   ],
   "source": [
    "sorted(b)"
   ]
  },
  {
   "cell_type": "code",
   "execution_count": null,
   "id": "ce1dcc3c-a52e-4e01-a998-79bd2d31c297",
   "metadata": {},
   "outputs": [],
   "source": []
  }
 ],
 "metadata": {
  "kernelspec": {
   "display_name": "Python 3 (ipykernel)",
   "language": "python",
   "name": "python3"
  },
  "language_info": {
   "codemirror_mode": {
    "name": "ipython",
    "version": 3
   },
   "file_extension": ".py",
   "mimetype": "text/x-python",
   "name": "python",
   "nbconvert_exporter": "python",
   "pygments_lexer": "ipython3",
   "version": "3.10.9"
  }
 },
 "nbformat": 4,
 "nbformat_minor": 5
}
